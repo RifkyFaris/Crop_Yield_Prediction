{
 "cells": [
  {
   "cell_type": "code",
   "execution_count": 1,
   "id": "9e7baf3b-7df6-48ed-a06a-1687478028b8",
   "metadata": {},
   "outputs": [],
   "source": [
    "import pandas as pd\n",
    "import numpy as np\n",
    "from matplotlib import pyplot as plt\n",
    "%matplotlib inline\n",
    "import matplotlib"
   ]
  },
  {
   "cell_type": "code",
   "execution_count": 7,
   "id": "7c0ed74c-710e-43c8-845b-ed24acc8fe89",
   "metadata": {},
   "outputs": [
    {
     "name": "stderr",
     "output_type": "stream",
     "text": [
      "C:\\Users\\WWAsanka\\AppData\\Local\\Temp\\ipykernel_2116\\4225226915.py:1: DtypeWarning: Columns (6) have mixed types. Specify dtype option on import or set low_memory=False.\n",
      "  df=pd.read_csv('Dataset/crop_yield1.csv')\n"
     ]
    }
   ],
   "source": [
    "df=pd.read_csv('Dataset/crop_yield1.csv')"
   ]
  },
  {
   "cell_type": "code",
   "execution_count": 8,
   "id": "f9d549cb-5243-4683-affb-793ed7f2418f",
   "metadata": {},
   "outputs": [
    {
     "data": {
      "text/html": [
       "<div>\n",
       "<style scoped>\n",
       "    .dataframe tbody tr th:only-of-type {\n",
       "        vertical-align: middle;\n",
       "    }\n",
       "\n",
       "    .dataframe tbody tr th {\n",
       "        vertical-align: top;\n",
       "    }\n",
       "\n",
       "    .dataframe thead th {\n",
       "        text-align: right;\n",
       "    }\n",
       "</style>\n",
       "<table border=\"1\" class=\"dataframe\">\n",
       "  <thead>\n",
       "    <tr style=\"text-align: right;\">\n",
       "      <th></th>\n",
       "      <th>Region</th>\n",
       "      <th>Soil_Type</th>\n",
       "      <th>Crop</th>\n",
       "      <th>Rainfall_mm</th>\n",
       "      <th>Temperature_Celsius</th>\n",
       "      <th>Fertilizer_Used</th>\n",
       "      <th>Irrigation_Used</th>\n",
       "      <th>Weather_Condition</th>\n",
       "      <th>Days_to_Harvest</th>\n",
       "      <th>Yield_tons_per_hectare</th>\n",
       "    </tr>\n",
       "  </thead>\n",
       "  <tbody>\n",
       "    <tr>\n",
       "      <th>0</th>\n",
       "      <td>West</td>\n",
       "      <td>Sandy</td>\n",
       "      <td>Cotton</td>\n",
       "      <td>897.077239</td>\n",
       "      <td>27.676966</td>\n",
       "      <td>False</td>\n",
       "      <td>True</td>\n",
       "      <td>Cloudy</td>\n",
       "      <td>122.0</td>\n",
       "      <td>6.555816</td>\n",
       "    </tr>\n",
       "    <tr>\n",
       "      <th>1</th>\n",
       "      <td>South</td>\n",
       "      <td>Clay</td>\n",
       "      <td>Rice</td>\n",
       "      <td>992.673282</td>\n",
       "      <td>18.026142</td>\n",
       "      <td>True</td>\n",
       "      <td>True</td>\n",
       "      <td>Rainy</td>\n",
       "      <td>140.0</td>\n",
       "      <td>8.527341</td>\n",
       "    </tr>\n",
       "    <tr>\n",
       "      <th>2</th>\n",
       "      <td>North</td>\n",
       "      <td>Loam</td>\n",
       "      <td>Barley</td>\n",
       "      <td>147.998025</td>\n",
       "      <td>29.794042</td>\n",
       "      <td>False</td>\n",
       "      <td>False</td>\n",
       "      <td>Sunny</td>\n",
       "      <td>106.0</td>\n",
       "      <td>1.127443</td>\n",
       "    </tr>\n",
       "    <tr>\n",
       "      <th>3</th>\n",
       "      <td>North</td>\n",
       "      <td>Sandy</td>\n",
       "      <td>Soybean</td>\n",
       "      <td>986.866331</td>\n",
       "      <td>16.644190</td>\n",
       "      <td>False</td>\n",
       "      <td>True</td>\n",
       "      <td>Rainy</td>\n",
       "      <td>146.0</td>\n",
       "      <td>6.517573</td>\n",
       "    </tr>\n",
       "    <tr>\n",
       "      <th>4</th>\n",
       "      <td>South</td>\n",
       "      <td>Silt</td>\n",
       "      <td>Wheat</td>\n",
       "      <td>730.379174</td>\n",
       "      <td>31.620687</td>\n",
       "      <td>True</td>\n",
       "      <td>True</td>\n",
       "      <td>Cloudy</td>\n",
       "      <td>110.0</td>\n",
       "      <td>7.248251</td>\n",
       "    </tr>\n",
       "    <tr>\n",
       "      <th>5</th>\n",
       "      <td>South</td>\n",
       "      <td>Silt</td>\n",
       "      <td>Soybean</td>\n",
       "      <td>797.471182</td>\n",
       "      <td>37.704974</td>\n",
       "      <td>False</td>\n",
       "      <td>True</td>\n",
       "      <td>Rainy</td>\n",
       "      <td>74.0</td>\n",
       "      <td>5.898416</td>\n",
       "    </tr>\n",
       "    <tr>\n",
       "      <th>6</th>\n",
       "      <td>West</td>\n",
       "      <td>Clay</td>\n",
       "      <td>Wheat</td>\n",
       "      <td>357.902357</td>\n",
       "      <td>31.593431</td>\n",
       "      <td>False</td>\n",
       "      <td>False</td>\n",
       "      <td>Rainy</td>\n",
       "      <td>90.0</td>\n",
       "      <td>2.652392</td>\n",
       "    </tr>\n",
       "    <tr>\n",
       "      <th>7</th>\n",
       "      <td>South</td>\n",
       "      <td>Sandy</td>\n",
       "      <td>Rice</td>\n",
       "      <td>441.131154</td>\n",
       "      <td>30.887107</td>\n",
       "      <td>True</td>\n",
       "      <td>True</td>\n",
       "      <td>Sunny</td>\n",
       "      <td>61.0</td>\n",
       "      <td>5.829542</td>\n",
       "    </tr>\n",
       "    <tr>\n",
       "      <th>8</th>\n",
       "      <td>North</td>\n",
       "      <td>Silt</td>\n",
       "      <td>Wheat</td>\n",
       "      <td>181.587861</td>\n",
       "      <td>26.752729</td>\n",
       "      <td>True</td>\n",
       "      <td>False</td>\n",
       "      <td>Sunny</td>\n",
       "      <td>127.0</td>\n",
       "      <td>2.943716</td>\n",
       "    </tr>\n",
       "    <tr>\n",
       "      <th>9</th>\n",
       "      <td>West</td>\n",
       "      <td>Sandy</td>\n",
       "      <td>Wheat</td>\n",
       "      <td>395.048968</td>\n",
       "      <td>17.646199</td>\n",
       "      <td>False</td>\n",
       "      <td>True</td>\n",
       "      <td>Rainy</td>\n",
       "      <td>140.0</td>\n",
       "      <td>3.707293</td>\n",
       "    </tr>\n",
       "  </tbody>\n",
       "</table>\n",
       "</div>"
      ],
      "text/plain": [
       "  Region Soil_Type     Crop  Rainfall_mm  Temperature_Celsius  \\\n",
       "0   West     Sandy   Cotton   897.077239            27.676966   \n",
       "1  South      Clay     Rice   992.673282            18.026142   \n",
       "2  North      Loam   Barley   147.998025            29.794042   \n",
       "3  North     Sandy  Soybean   986.866331            16.644190   \n",
       "4  South      Silt    Wheat   730.379174            31.620687   \n",
       "5  South      Silt  Soybean   797.471182            37.704974   \n",
       "6   West      Clay    Wheat   357.902357            31.593431   \n",
       "7  South     Sandy     Rice   441.131154            30.887107   \n",
       "8  North      Silt    Wheat   181.587861            26.752729   \n",
       "9   West     Sandy    Wheat   395.048968            17.646199   \n",
       "\n",
       "   Fertilizer_Used Irrigation_Used Weather_Condition  Days_to_Harvest  \\\n",
       "0            False            True            Cloudy            122.0   \n",
       "1             True            True             Rainy            140.0   \n",
       "2            False           False             Sunny            106.0   \n",
       "3            False            True             Rainy            146.0   \n",
       "4             True            True            Cloudy            110.0   \n",
       "5            False            True             Rainy             74.0   \n",
       "6            False           False             Rainy             90.0   \n",
       "7             True            True             Sunny             61.0   \n",
       "8             True           False             Sunny            127.0   \n",
       "9            False            True             Rainy            140.0   \n",
       "\n",
       "   Yield_tons_per_hectare  \n",
       "0                6.555816  \n",
       "1                8.527341  \n",
       "2                1.127443  \n",
       "3                6.517573  \n",
       "4                7.248251  \n",
       "5                5.898416  \n",
       "6                2.652392  \n",
       "7                5.829542  \n",
       "8                2.943716  \n",
       "9                3.707293  "
      ]
     },
     "execution_count": 8,
     "metadata": {},
     "output_type": "execute_result"
    }
   ],
   "source": [
    "df.head(10)"
   ]
  },
  {
   "cell_type": "code",
   "execution_count": 9,
   "id": "6057592e-525b-410b-82bc-faafadaccfb7",
   "metadata": {},
   "outputs": [
    {
     "data": {
      "text/plain": [
       "(1000000, 10)"
      ]
     },
     "execution_count": 9,
     "metadata": {},
     "output_type": "execute_result"
    }
   ],
   "source": [
    "df.shape"
   ]
  },
  {
   "cell_type": "code",
   "execution_count": 10,
   "id": "050f073c-f0ee-4d90-8d81-6c97107753e4",
   "metadata": {},
   "outputs": [
    {
     "data": {
      "text/plain": [
       "Index(['Region', 'Soil_Type', 'Crop', 'Rainfall_mm', 'Temperature_Celsius',\n",
       "       'Fertilizer_Used', 'Irrigation_Used', 'Weather_Condition',\n",
       "       'Days_to_Harvest', 'Yield_tons_per_hectare'],\n",
       "      dtype='object')"
      ]
     },
     "execution_count": 10,
     "metadata": {},
     "output_type": "execute_result"
    }
   ],
   "source": [
    "df.columns"
   ]
  },
  {
   "cell_type": "code",
   "execution_count": 11,
   "id": "d8480a5f-cc42-4d6f-8a5e-d16e6de0205f",
   "metadata": {},
   "outputs": [
    {
     "data": {
      "text/plain": [
       "Region                    0\n",
       "Soil_Type                 0\n",
       "Crop                      0\n",
       "Rainfall_mm               6\n",
       "Temperature_Celsius       1\n",
       "Fertilizer_Used           0\n",
       "Irrigation_Used           1\n",
       "Weather_Condition         2\n",
       "Days_to_Harvest           1\n",
       "Yield_tons_per_hectare    0\n",
       "dtype: int64"
      ]
     },
     "execution_count": 11,
     "metadata": {},
     "output_type": "execute_result"
    }
   ],
   "source": [
    "df.isnull().sum()"
   ]
  },
  {
   "cell_type": "code",
   "execution_count": 12,
   "id": "03ac0f9a-ab03-4658-aac5-ed6d2aff9252",
   "metadata": {},
   "outputs": [],
   "source": [
    "df=df.dropna()"
   ]
  },
  {
   "cell_type": "code",
   "execution_count": 13,
   "id": "d132010d-5bdb-4708-88b5-b6ab9425b567",
   "metadata": {},
   "outputs": [
    {
     "data": {
      "text/plain": [
       "(999989, 10)"
      ]
     },
     "execution_count": 13,
     "metadata": {},
     "output_type": "execute_result"
    }
   ],
   "source": [
    "df.shape"
   ]
  },
  {
   "cell_type": "code",
   "execution_count": 14,
   "id": "31cdacc7-54e3-4caf-b9d3-e89109018c89",
   "metadata": {},
   "outputs": [
    {
     "data": {
      "text/plain": [
       "array(['West', 'South', 'North', 'East'], dtype=object)"
      ]
     },
     "execution_count": 14,
     "metadata": {},
     "output_type": "execute_result"
    }
   ],
   "source": [
    "df['Region'].unique()"
   ]
  },
  {
   "cell_type": "code",
   "execution_count": 15,
   "id": "25210cb3-5e68-476d-b8af-8c8382210ba7",
   "metadata": {},
   "outputs": [
    {
     "data": {
      "text/plain": [
       "Region\n",
       "North    250170\n",
       "West     250071\n",
       "South    250050\n",
       "East     249698\n",
       "Name: count, dtype: int64"
      ]
     },
     "execution_count": 15,
     "metadata": {},
     "output_type": "execute_result"
    }
   ],
   "source": [
    "df['Region'].value_counts()"
   ]
  },
  {
   "cell_type": "code",
   "execution_count": 16,
   "id": "af0f576a-2c26-44e3-b32d-83266f1a6afa",
   "metadata": {},
   "outputs": [
    {
     "data": {
      "text/plain": [
       "array(['Sandy', 'Clay', 'Loam', 'Silt', 'Peaty', 'Chalky'], dtype=object)"
      ]
     },
     "execution_count": 16,
     "metadata": {},
     "output_type": "execute_result"
    }
   ],
   "source": [
    "df['Soil_Type'].unique()"
   ]
  },
  {
   "cell_type": "code",
   "execution_count": 17,
   "id": "346cc440-3b28-4d47-a9de-2f610e5907c5",
   "metadata": {},
   "outputs": [
    {
     "data": {
      "text/plain": [
       "Soil_Type\n",
       "Sandy     167118\n",
       "Loam      166795\n",
       "Chalky    166778\n",
       "Silt      166669\n",
       "Clay      166350\n",
       "Peaty     166279\n",
       "Name: count, dtype: int64"
      ]
     },
     "execution_count": 17,
     "metadata": {},
     "output_type": "execute_result"
    }
   ],
   "source": [
    "df['Soil_Type'].value_counts()"
   ]
  },
  {
   "cell_type": "code",
   "execution_count": 18,
   "id": "5eb36300-4f24-48ac-967f-4217ecfff1a8",
   "metadata": {},
   "outputs": [
    {
     "data": {
      "text/plain": [
       "array(['Cotton', 'Rice', 'Barley', 'Soybean', 'Wheat', 'Maize'],\n",
       "      dtype=object)"
      ]
     },
     "execution_count": 18,
     "metadata": {},
     "output_type": "execute_result"
    }
   ],
   "source": [
    "df['Crop'].unique()"
   ]
  },
  {
   "cell_type": "code",
   "execution_count": 19,
   "id": "4c0cd407-71f0-426e-bbeb-a5677474ca29",
   "metadata": {},
   "outputs": [
    {
     "data": {
      "text/plain": [
       "Crop\n",
       "Maize      166823\n",
       "Rice       166787\n",
       "Barley     166776\n",
       "Wheat      166669\n",
       "Cotton     166585\n",
       "Soybean    166349\n",
       "Name: count, dtype: int64"
      ]
     },
     "execution_count": 19,
     "metadata": {},
     "output_type": "execute_result"
    }
   ],
   "source": [
    "df['Crop'].value_counts()"
   ]
  },
  {
   "cell_type": "code",
   "execution_count": 20,
   "id": "a8954a58-ff63-40d8-955f-35c662949b13",
   "metadata": {},
   "outputs": [
    {
     "data": {
      "text/plain": [
       "array([False,  True])"
      ]
     },
     "execution_count": 20,
     "metadata": {},
     "output_type": "execute_result"
    }
   ],
   "source": [
    "df['Fertilizer_Used'].unique()"
   ]
  },
  {
   "cell_type": "code",
   "execution_count": 21,
   "id": "05913607-b55c-40c2-ad3e-80a2799784c4",
   "metadata": {},
   "outputs": [
    {
     "data": {
      "text/plain": [
       "Fertilizer_Used\n",
       "False    500054\n",
       "True     499935\n",
       "Name: count, dtype: int64"
      ]
     },
     "execution_count": 21,
     "metadata": {},
     "output_type": "execute_result"
    }
   ],
   "source": [
    "df['Fertilizer_Used'].value_counts()"
   ]
  },
  {
   "cell_type": "code",
   "execution_count": 22,
   "id": "11b531a7-86ef-4462-9dee-ddeb49f610cb",
   "metadata": {},
   "outputs": [
    {
     "data": {
      "text/plain": [
       "array([True, False], dtype=object)"
      ]
     },
     "execution_count": 22,
     "metadata": {},
     "output_type": "execute_result"
    }
   ],
   "source": [
    "df['Irrigation_Used'].unique()"
   ]
  },
  {
   "cell_type": "code",
   "execution_count": 23,
   "id": "96e6b3b9-ea2f-44a6-8e87-f624b345db3e",
   "metadata": {},
   "outputs": [
    {
     "data": {
      "text/plain": [
       "Irrigation_Used\n",
       "False    500503\n",
       "True     499486\n",
       "Name: count, dtype: int64"
      ]
     },
     "execution_count": 23,
     "metadata": {},
     "output_type": "execute_result"
    }
   ],
   "source": [
    "df['Irrigation_Used'].value_counts()"
   ]
  },
  {
   "cell_type": "code",
   "execution_count": 24,
   "id": "9eac3ab3-f038-47d8-9c1a-ce013273fa01",
   "metadata": {},
   "outputs": [
    {
     "data": {
      "text/plain": [
       "array(['Cloudy', 'Rainy', 'Sunny'], dtype=object)"
      ]
     },
     "execution_count": 24,
     "metadata": {},
     "output_type": "execute_result"
    }
   ],
   "source": [
    "df['Weather_Condition'].unique()"
   ]
  },
  {
   "cell_type": "code",
   "execution_count": 25,
   "id": "5c815c49-f7b8-4a0c-9f5c-d654c6a1c0ae",
   "metadata": {},
   "outputs": [
    {
     "data": {
      "text/plain": [
       "Weather_Condition\n",
       "Sunny     333785\n",
       "Rainy     333558\n",
       "Cloudy    332646\n",
       "Name: count, dtype: int64"
      ]
     },
     "execution_count": 25,
     "metadata": {},
     "output_type": "execute_result"
    }
   ],
   "source": [
    "df['Weather_Condition'].value_counts()"
   ]
  },
  {
   "cell_type": "code",
   "execution_count": 26,
   "id": "c66ff72b-cd46-47e9-8cba-ddaef3538164",
   "metadata": {},
   "outputs": [
    {
     "data": {
      "text/html": [
       "<div>\n",
       "<style scoped>\n",
       "    .dataframe tbody tr th:only-of-type {\n",
       "        vertical-align: middle;\n",
       "    }\n",
       "\n",
       "    .dataframe tbody tr th {\n",
       "        vertical-align: top;\n",
       "    }\n",
       "\n",
       "    .dataframe thead th {\n",
       "        text-align: right;\n",
       "    }\n",
       "</style>\n",
       "<table border=\"1\" class=\"dataframe\">\n",
       "  <thead>\n",
       "    <tr style=\"text-align: right;\">\n",
       "      <th></th>\n",
       "      <th>Region</th>\n",
       "      <th>Soil_Type</th>\n",
       "      <th>Crop</th>\n",
       "      <th>Rainfall_mm</th>\n",
       "      <th>Temperature_Celsius</th>\n",
       "      <th>Fertilizer_Used</th>\n",
       "      <th>Irrigation_Used</th>\n",
       "      <th>Weather_Condition</th>\n",
       "      <th>Days_to_Harvest</th>\n",
       "      <th>Yield_tons_per_hectare</th>\n",
       "    </tr>\n",
       "  </thead>\n",
       "  <tbody>\n",
       "    <tr>\n",
       "      <th>0</th>\n",
       "      <td>West</td>\n",
       "      <td>Sandy</td>\n",
       "      <td>Cotton</td>\n",
       "      <td>897.077239</td>\n",
       "      <td>27.676966</td>\n",
       "      <td>False</td>\n",
       "      <td>True</td>\n",
       "      <td>Cloudy</td>\n",
       "      <td>122.0</td>\n",
       "      <td>6.555816</td>\n",
       "    </tr>\n",
       "    <tr>\n",
       "      <th>1</th>\n",
       "      <td>South</td>\n",
       "      <td>Clay</td>\n",
       "      <td>Rice</td>\n",
       "      <td>992.673282</td>\n",
       "      <td>18.026142</td>\n",
       "      <td>True</td>\n",
       "      <td>True</td>\n",
       "      <td>Rainy</td>\n",
       "      <td>140.0</td>\n",
       "      <td>8.527341</td>\n",
       "    </tr>\n",
       "  </tbody>\n",
       "</table>\n",
       "</div>"
      ],
      "text/plain": [
       "  Region Soil_Type    Crop  Rainfall_mm  Temperature_Celsius  Fertilizer_Used  \\\n",
       "0   West     Sandy  Cotton   897.077239            27.676966            False   \n",
       "1  South      Clay    Rice   992.673282            18.026142             True   \n",
       "\n",
       "  Irrigation_Used Weather_Condition  Days_to_Harvest  Yield_tons_per_hectare  \n",
       "0            True            Cloudy            122.0                6.555816  \n",
       "1            True             Rainy            140.0                8.527341  "
      ]
     },
     "execution_count": 26,
     "metadata": {},
     "output_type": "execute_result"
    }
   ],
   "source": [
    "df.head(2)"
   ]
  },
  {
   "cell_type": "code",
   "execution_count": 27,
   "id": "2e6d174f-d6b5-41ea-9293-fa911a897ce7",
   "metadata": {},
   "outputs": [
    {
     "data": {
      "text/plain": [
       "count    999989.000000\n",
       "mean        549.981206\n",
       "std         259.851466\n",
       "min         100.000896\n",
       "25%         324.887407\n",
       "50%         550.122120\n",
       "75%         774.738334\n",
       "max         999.998098\n",
       "Name: Rainfall_mm, dtype: float64"
      ]
     },
     "execution_count": 27,
     "metadata": {},
     "output_type": "execute_result"
    }
   ],
   "source": [
    "df['Rainfall_mm'].describe()"
   ]
  },
  {
   "cell_type": "code",
   "execution_count": 28,
   "id": "b331cc59-3936-401f-a029-0efd191c795b",
   "metadata": {},
   "outputs": [
    {
     "data": {
      "text/plain": [
       "count    999989.000000\n",
       "mean         27.504922\n",
       "std           7.220609\n",
       "min          15.000034\n",
       "25%          21.254409\n",
       "50%          27.507292\n",
       "75%          33.753246\n",
       "max          39.999997\n",
       "Name: Temperature_Celsius, dtype: float64"
      ]
     },
     "execution_count": 28,
     "metadata": {},
     "output_type": "execute_result"
    }
   ],
   "source": [
    "df['Temperature_Celsius'].describe()"
   ]
  },
  {
   "cell_type": "code",
   "execution_count": 29,
   "id": "03be7860-8f63-4424-94cf-fdfd221ec8b6",
   "metadata": {},
   "outputs": [
    {
     "data": {
      "text/plain": [
       "count    999989.000000\n",
       "mean        104.495042\n",
       "std          25.953409\n",
       "min          60.000000\n",
       "25%          82.000000\n",
       "50%         104.000000\n",
       "75%         127.000000\n",
       "max         149.000000\n",
       "Name: Days_to_Harvest, dtype: float64"
      ]
     },
     "execution_count": 29,
     "metadata": {},
     "output_type": "execute_result"
    }
   ],
   "source": [
    "df['Days_to_Harvest'].describe()"
   ]
  },
  {
   "cell_type": "code",
   "execution_count": 30,
   "id": "7ac262a4-30b5-4161-903e-c201425d0fb4",
   "metadata": {},
   "outputs": [
    {
     "name": "stdout",
     "output_type": "stream",
     "text": [
      "   Rainfall_mm  Temperature_Celsius  Fertilizer_Used Irrigation_Used  \\\n",
      "0   897.077239            27.676966            False            True   \n",
      "1   992.673282            18.026142             True            True   \n",
      "2   147.998025            29.794042            False           False   \n",
      "3   986.866331            16.644190            False            True   \n",
      "4   730.379174            31.620687             True            True   \n",
      "\n",
      "   Days_to_Harvest  Yield_tons_per_hectare  Region_East  Region_North  \\\n",
      "0            122.0                6.555816        False         False   \n",
      "1            140.0                8.527341        False         False   \n",
      "2            106.0                1.127443        False          True   \n",
      "3            146.0                6.517573        False          True   \n",
      "4            110.0                7.248251        False         False   \n",
      "\n",
      "   Region_South  Region_West  ...  Soil_Type_Silt  Crop_Barley  Crop_Cotton  \\\n",
      "0         False         True  ...           False        False         True   \n",
      "1          True        False  ...           False        False        False   \n",
      "2         False        False  ...           False         True        False   \n",
      "3         False        False  ...           False        False        False   \n",
      "4          True        False  ...            True        False        False   \n",
      "\n",
      "   Crop_Maize  Crop_Rice  Crop_Soybean  Crop_Wheat  Weather_Condition_Cloudy  \\\n",
      "0       False      False         False       False                      True   \n",
      "1       False       True         False       False                     False   \n",
      "2       False      False         False       False                     False   \n",
      "3       False      False          True       False                     False   \n",
      "4       False      False         False        True                      True   \n",
      "\n",
      "   Weather_Condition_Rainy  Weather_Condition_Sunny  \n",
      "0                    False                    False  \n",
      "1                     True                    False  \n",
      "2                    False                     True  \n",
      "3                     True                    False  \n",
      "4                    False                    False  \n",
      "\n",
      "[5 rows x 25 columns]\n"
     ]
    }
   ],
   "source": [
    "categorical_features=['Region','Soil_Type', 'Crop', 'Weather_Condition']\n",
    "df1 = pd.get_dummies(df, columns=categorical_features, drop_first=False)\n",
    "print(df1.head())"
   ]
  },
  {
   "cell_type": "code",
   "execution_count": 31,
   "id": "ad0885e9-ccc4-4f89-8bda-4e2c327fd7c0",
   "metadata": {},
   "outputs": [
    {
     "data": {
      "text/html": [
       "<div>\n",
       "<style scoped>\n",
       "    .dataframe tbody tr th:only-of-type {\n",
       "        vertical-align: middle;\n",
       "    }\n",
       "\n",
       "    .dataframe tbody tr th {\n",
       "        vertical-align: top;\n",
       "    }\n",
       "\n",
       "    .dataframe thead th {\n",
       "        text-align: right;\n",
       "    }\n",
       "</style>\n",
       "<table border=\"1\" class=\"dataframe\">\n",
       "  <thead>\n",
       "    <tr style=\"text-align: right;\">\n",
       "      <th></th>\n",
       "      <th>Rainfall_mm</th>\n",
       "      <th>Temperature_Celsius</th>\n",
       "      <th>Fertilizer_Used</th>\n",
       "      <th>Irrigation_Used</th>\n",
       "      <th>Days_to_Harvest</th>\n",
       "      <th>Yield_tons_per_hectare</th>\n",
       "      <th>Region_East</th>\n",
       "      <th>Region_North</th>\n",
       "      <th>Region_South</th>\n",
       "      <th>Region_West</th>\n",
       "      <th>...</th>\n",
       "      <th>Soil_Type_Silt</th>\n",
       "      <th>Crop_Barley</th>\n",
       "      <th>Crop_Cotton</th>\n",
       "      <th>Crop_Maize</th>\n",
       "      <th>Crop_Rice</th>\n",
       "      <th>Crop_Soybean</th>\n",
       "      <th>Crop_Wheat</th>\n",
       "      <th>Weather_Condition_Cloudy</th>\n",
       "      <th>Weather_Condition_Rainy</th>\n",
       "      <th>Weather_Condition_Sunny</th>\n",
       "    </tr>\n",
       "  </thead>\n",
       "  <tbody>\n",
       "    <tr>\n",
       "      <th>0</th>\n",
       "      <td>897.077239</td>\n",
       "      <td>27.676966</td>\n",
       "      <td>False</td>\n",
       "      <td>True</td>\n",
       "      <td>122.0</td>\n",
       "      <td>6.555816</td>\n",
       "      <td>False</td>\n",
       "      <td>False</td>\n",
       "      <td>False</td>\n",
       "      <td>True</td>\n",
       "      <td>...</td>\n",
       "      <td>False</td>\n",
       "      <td>False</td>\n",
       "      <td>True</td>\n",
       "      <td>False</td>\n",
       "      <td>False</td>\n",
       "      <td>False</td>\n",
       "      <td>False</td>\n",
       "      <td>True</td>\n",
       "      <td>False</td>\n",
       "      <td>False</td>\n",
       "    </tr>\n",
       "    <tr>\n",
       "      <th>1</th>\n",
       "      <td>992.673282</td>\n",
       "      <td>18.026142</td>\n",
       "      <td>True</td>\n",
       "      <td>True</td>\n",
       "      <td>140.0</td>\n",
       "      <td>8.527341</td>\n",
       "      <td>False</td>\n",
       "      <td>False</td>\n",
       "      <td>True</td>\n",
       "      <td>False</td>\n",
       "      <td>...</td>\n",
       "      <td>False</td>\n",
       "      <td>False</td>\n",
       "      <td>False</td>\n",
       "      <td>False</td>\n",
       "      <td>True</td>\n",
       "      <td>False</td>\n",
       "      <td>False</td>\n",
       "      <td>False</td>\n",
       "      <td>True</td>\n",
       "      <td>False</td>\n",
       "    </tr>\n",
       "  </tbody>\n",
       "</table>\n",
       "<p>2 rows × 25 columns</p>\n",
       "</div>"
      ],
      "text/plain": [
       "   Rainfall_mm  Temperature_Celsius  Fertilizer_Used Irrigation_Used  \\\n",
       "0   897.077239            27.676966            False            True   \n",
       "1   992.673282            18.026142             True            True   \n",
       "\n",
       "   Days_to_Harvest  Yield_tons_per_hectare  Region_East  Region_North  \\\n",
       "0            122.0                6.555816        False         False   \n",
       "1            140.0                8.527341        False         False   \n",
       "\n",
       "   Region_South  Region_West  ...  Soil_Type_Silt  Crop_Barley  Crop_Cotton  \\\n",
       "0         False         True  ...           False        False         True   \n",
       "1          True        False  ...           False        False        False   \n",
       "\n",
       "   Crop_Maize  Crop_Rice  Crop_Soybean  Crop_Wheat  Weather_Condition_Cloudy  \\\n",
       "0       False      False         False       False                      True   \n",
       "1       False       True         False       False                     False   \n",
       "\n",
       "   Weather_Condition_Rainy  Weather_Condition_Sunny  \n",
       "0                    False                    False  \n",
       "1                     True                    False  \n",
       "\n",
       "[2 rows x 25 columns]"
      ]
     },
     "execution_count": 31,
     "metadata": {},
     "output_type": "execute_result"
    }
   ],
   "source": [
    "df2 = pd.concat([df1],axis='columns')\n",
    "df2.head(2)"
   ]
  },
  {
   "cell_type": "code",
   "execution_count": 32,
   "id": "1c263ced-9d62-45a0-a3b7-3d605c6e3368",
   "metadata": {},
   "outputs": [],
   "source": [
    "df3=df2.copy()\n",
    "df3['Rainfall_Bin'] = pd.cut(\n",
    "    df3['Rainfall_mm'],\n",
    "    bins=[0, 300, 600, 900, 1200],   # intervals\n",
    "    labels=['Low', 'Medium', 'High', 'Very High']\n",
    ")\n",
    "\n",
    "\n",
    "df3['Temp_Bin'] = pd.cut(\n",
    "    df3['Temperature_Celsius'],\n",
    "    bins=[0, 15, 25, 35, 50],\n",
    "    labels=['Cold', 'Mild', 'Warm', 'Hot']\n",
    ")\n",
    "\n",
    "df3['Harvest_Bin'] = pd.cut(\n",
    "    df3['Days_to_Harvest'],\n",
    "    bins=[0, 90, 120, 150, 200],\n",
    "    labels=['Short', 'Medium', 'Long', 'Very Long']\n",
    ")\n",
    "df3 = df3.drop(['Rainfall_mm','Temperature_Celsius','Days_to_Harvest'], axis=1)\n"
   ]
  },
  {
   "cell_type": "code",
   "execution_count": 33,
   "id": "8bb11331-746d-410f-a2eb-c1deea1a2d22",
   "metadata": {},
   "outputs": [
    {
     "data": {
      "text/html": [
       "<div>\n",
       "<style scoped>\n",
       "    .dataframe tbody tr th:only-of-type {\n",
       "        vertical-align: middle;\n",
       "    }\n",
       "\n",
       "    .dataframe tbody tr th {\n",
       "        vertical-align: top;\n",
       "    }\n",
       "\n",
       "    .dataframe thead th {\n",
       "        text-align: right;\n",
       "    }\n",
       "</style>\n",
       "<table border=\"1\" class=\"dataframe\">\n",
       "  <thead>\n",
       "    <tr style=\"text-align: right;\">\n",
       "      <th></th>\n",
       "      <th>Fertilizer_Used</th>\n",
       "      <th>Irrigation_Used</th>\n",
       "      <th>Yield_tons_per_hectare</th>\n",
       "      <th>Region_East</th>\n",
       "      <th>Region_North</th>\n",
       "      <th>Region_South</th>\n",
       "      <th>Region_West</th>\n",
       "      <th>Soil_Type_Chalky</th>\n",
       "      <th>Soil_Type_Clay</th>\n",
       "      <th>Soil_Type_Loam</th>\n",
       "      <th>...</th>\n",
       "      <th>Crop_Maize</th>\n",
       "      <th>Crop_Rice</th>\n",
       "      <th>Crop_Soybean</th>\n",
       "      <th>Crop_Wheat</th>\n",
       "      <th>Weather_Condition_Cloudy</th>\n",
       "      <th>Weather_Condition_Rainy</th>\n",
       "      <th>Weather_Condition_Sunny</th>\n",
       "      <th>Rainfall_Bin</th>\n",
       "      <th>Temp_Bin</th>\n",
       "      <th>Harvest_Bin</th>\n",
       "    </tr>\n",
       "  </thead>\n",
       "  <tbody>\n",
       "    <tr>\n",
       "      <th>0</th>\n",
       "      <td>False</td>\n",
       "      <td>True</td>\n",
       "      <td>6.555816</td>\n",
       "      <td>False</td>\n",
       "      <td>False</td>\n",
       "      <td>False</td>\n",
       "      <td>True</td>\n",
       "      <td>False</td>\n",
       "      <td>False</td>\n",
       "      <td>False</td>\n",
       "      <td>...</td>\n",
       "      <td>False</td>\n",
       "      <td>False</td>\n",
       "      <td>False</td>\n",
       "      <td>False</td>\n",
       "      <td>True</td>\n",
       "      <td>False</td>\n",
       "      <td>False</td>\n",
       "      <td>High</td>\n",
       "      <td>Warm</td>\n",
       "      <td>Long</td>\n",
       "    </tr>\n",
       "    <tr>\n",
       "      <th>1</th>\n",
       "      <td>True</td>\n",
       "      <td>True</td>\n",
       "      <td>8.527341</td>\n",
       "      <td>False</td>\n",
       "      <td>False</td>\n",
       "      <td>True</td>\n",
       "      <td>False</td>\n",
       "      <td>False</td>\n",
       "      <td>True</td>\n",
       "      <td>False</td>\n",
       "      <td>...</td>\n",
       "      <td>False</td>\n",
       "      <td>True</td>\n",
       "      <td>False</td>\n",
       "      <td>False</td>\n",
       "      <td>False</td>\n",
       "      <td>True</td>\n",
       "      <td>False</td>\n",
       "      <td>Very High</td>\n",
       "      <td>Mild</td>\n",
       "      <td>Long</td>\n",
       "    </tr>\n",
       "    <tr>\n",
       "      <th>2</th>\n",
       "      <td>False</td>\n",
       "      <td>False</td>\n",
       "      <td>1.127443</td>\n",
       "      <td>False</td>\n",
       "      <td>True</td>\n",
       "      <td>False</td>\n",
       "      <td>False</td>\n",
       "      <td>False</td>\n",
       "      <td>False</td>\n",
       "      <td>True</td>\n",
       "      <td>...</td>\n",
       "      <td>False</td>\n",
       "      <td>False</td>\n",
       "      <td>False</td>\n",
       "      <td>False</td>\n",
       "      <td>False</td>\n",
       "      <td>False</td>\n",
       "      <td>True</td>\n",
       "      <td>Low</td>\n",
       "      <td>Warm</td>\n",
       "      <td>Medium</td>\n",
       "    </tr>\n",
       "    <tr>\n",
       "      <th>3</th>\n",
       "      <td>False</td>\n",
       "      <td>True</td>\n",
       "      <td>6.517573</td>\n",
       "      <td>False</td>\n",
       "      <td>True</td>\n",
       "      <td>False</td>\n",
       "      <td>False</td>\n",
       "      <td>False</td>\n",
       "      <td>False</td>\n",
       "      <td>False</td>\n",
       "      <td>...</td>\n",
       "      <td>False</td>\n",
       "      <td>False</td>\n",
       "      <td>True</td>\n",
       "      <td>False</td>\n",
       "      <td>False</td>\n",
       "      <td>True</td>\n",
       "      <td>False</td>\n",
       "      <td>Very High</td>\n",
       "      <td>Mild</td>\n",
       "      <td>Long</td>\n",
       "    </tr>\n",
       "    <tr>\n",
       "      <th>4</th>\n",
       "      <td>True</td>\n",
       "      <td>True</td>\n",
       "      <td>7.248251</td>\n",
       "      <td>False</td>\n",
       "      <td>False</td>\n",
       "      <td>True</td>\n",
       "      <td>False</td>\n",
       "      <td>False</td>\n",
       "      <td>False</td>\n",
       "      <td>False</td>\n",
       "      <td>...</td>\n",
       "      <td>False</td>\n",
       "      <td>False</td>\n",
       "      <td>False</td>\n",
       "      <td>True</td>\n",
       "      <td>True</td>\n",
       "      <td>False</td>\n",
       "      <td>False</td>\n",
       "      <td>High</td>\n",
       "      <td>Warm</td>\n",
       "      <td>Medium</td>\n",
       "    </tr>\n",
       "  </tbody>\n",
       "</table>\n",
       "<p>5 rows × 25 columns</p>\n",
       "</div>"
      ],
      "text/plain": [
       "   Fertilizer_Used Irrigation_Used  Yield_tons_per_hectare  Region_East  \\\n",
       "0            False            True                6.555816        False   \n",
       "1             True            True                8.527341        False   \n",
       "2            False           False                1.127443        False   \n",
       "3            False            True                6.517573        False   \n",
       "4             True            True                7.248251        False   \n",
       "\n",
       "   Region_North  Region_South  Region_West  Soil_Type_Chalky  Soil_Type_Clay  \\\n",
       "0         False         False         True             False           False   \n",
       "1         False          True        False             False            True   \n",
       "2          True         False        False             False           False   \n",
       "3          True         False        False             False           False   \n",
       "4         False          True        False             False           False   \n",
       "\n",
       "   Soil_Type_Loam  ...  Crop_Maize  Crop_Rice  Crop_Soybean  Crop_Wheat  \\\n",
       "0           False  ...       False      False         False       False   \n",
       "1           False  ...       False       True         False       False   \n",
       "2            True  ...       False      False         False       False   \n",
       "3           False  ...       False      False          True       False   \n",
       "4           False  ...       False      False         False        True   \n",
       "\n",
       "   Weather_Condition_Cloudy  Weather_Condition_Rainy  Weather_Condition_Sunny  \\\n",
       "0                      True                    False                    False   \n",
       "1                     False                     True                    False   \n",
       "2                     False                    False                     True   \n",
       "3                     False                     True                    False   \n",
       "4                      True                    False                    False   \n",
       "\n",
       "   Rainfall_Bin  Temp_Bin  Harvest_Bin  \n",
       "0          High      Warm         Long  \n",
       "1     Very High      Mild         Long  \n",
       "2           Low      Warm       Medium  \n",
       "3     Very High      Mild         Long  \n",
       "4          High      Warm       Medium  \n",
       "\n",
       "[5 rows x 25 columns]"
      ]
     },
     "execution_count": 33,
     "metadata": {},
     "output_type": "execute_result"
    }
   ],
   "source": [
    "df3.head()"
   ]
  },
  {
   "cell_type": "code",
   "execution_count": 34,
   "id": "bbda4327-4fcb-410b-b6aa-5887283d1bca",
   "metadata": {},
   "outputs": [
    {
     "name": "stdout",
     "output_type": "stream",
     "text": [
      "   Fertilizer_Used Irrigation_Used  Yield_tons_per_hectare  Region_East  \\\n",
      "0            False            True                6.555816        False   \n",
      "1             True            True                8.527341        False   \n",
      "2            False           False                1.127443        False   \n",
      "3            False            True                6.517573        False   \n",
      "4             True            True                7.248251        False   \n",
      "\n",
      "   Region_North  Region_South  Region_West  Soil_Type_Chalky  Soil_Type_Clay  \\\n",
      "0         False         False         True             False           False   \n",
      "1         False          True        False             False            True   \n",
      "2          True         False        False             False           False   \n",
      "3          True         False        False             False           False   \n",
      "4         False          True        False             False           False   \n",
      "\n",
      "   Soil_Type_Loam  ...  Rainfall_Bin_High  Rainfall_Bin_Very High  \\\n",
      "0           False  ...               True                   False   \n",
      "1           False  ...              False                    True   \n",
      "2            True  ...              False                   False   \n",
      "3           False  ...              False                    True   \n",
      "4           False  ...               True                   False   \n",
      "\n",
      "   Temp_Bin_Cold  Temp_Bin_Mild  Temp_Bin_Warm  Temp_Bin_Hot  \\\n",
      "0          False          False           True         False   \n",
      "1          False           True          False         False   \n",
      "2          False          False           True         False   \n",
      "3          False           True          False         False   \n",
      "4          False          False           True         False   \n",
      "\n",
      "   Harvest_Bin_Short  Harvest_Bin_Medium  Harvest_Bin_Long  \\\n",
      "0              False               False              True   \n",
      "1              False               False              True   \n",
      "2              False                True             False   \n",
      "3              False               False              True   \n",
      "4              False                True             False   \n",
      "\n",
      "   Harvest_Bin_Very Long  \n",
      "0                  False  \n",
      "1                  False  \n",
      "2                  False  \n",
      "3                  False  \n",
      "4                  False  \n",
      "\n",
      "[5 rows x 34 columns]\n"
     ]
    }
   ],
   "source": [
    "categorical1_features=['Rainfall_Bin','Temp_Bin', 'Harvest_Bin']\n",
    "df4 = pd.get_dummies(df3, columns=categorical1_features, drop_first=False)\n",
    "print(df4.head())"
   ]
  },
  {
   "cell_type": "code",
   "execution_count": 35,
   "id": "7e20020f-9fb0-4f87-b5a8-34b8b23a13a5",
   "metadata": {},
   "outputs": [
    {
     "data": {
      "text/plain": [
       "(999989, 34)"
      ]
     },
     "execution_count": 35,
     "metadata": {},
     "output_type": "execute_result"
    }
   ],
   "source": [
    "df4.shape"
   ]
  },
  {
   "cell_type": "code",
   "execution_count": 36,
   "id": "820f42e2-5339-489a-8d79-bff3c43a6072",
   "metadata": {},
   "outputs": [
    {
     "data": {
      "text/html": [
       "<div>\n",
       "<style scoped>\n",
       "    .dataframe tbody tr th:only-of-type {\n",
       "        vertical-align: middle;\n",
       "    }\n",
       "\n",
       "    .dataframe tbody tr th {\n",
       "        vertical-align: top;\n",
       "    }\n",
       "\n",
       "    .dataframe thead th {\n",
       "        text-align: right;\n",
       "    }\n",
       "</style>\n",
       "<table border=\"1\" class=\"dataframe\">\n",
       "  <thead>\n",
       "    <tr style=\"text-align: right;\">\n",
       "      <th></th>\n",
       "      <th>Fertilizer_Used</th>\n",
       "      <th>Irrigation_Used</th>\n",
       "      <th>Yield_tons_per_hectare</th>\n",
       "      <th>Region_East</th>\n",
       "      <th>Region_North</th>\n",
       "      <th>Region_South</th>\n",
       "      <th>Region_West</th>\n",
       "      <th>Soil_Type_Chalky</th>\n",
       "      <th>Soil_Type_Clay</th>\n",
       "      <th>Soil_Type_Loam</th>\n",
       "      <th>...</th>\n",
       "      <th>Rainfall_Bin_High</th>\n",
       "      <th>Rainfall_Bin_Very High</th>\n",
       "      <th>Temp_Bin_Cold</th>\n",
       "      <th>Temp_Bin_Mild</th>\n",
       "      <th>Temp_Bin_Warm</th>\n",
       "      <th>Temp_Bin_Hot</th>\n",
       "      <th>Harvest_Bin_Short</th>\n",
       "      <th>Harvest_Bin_Medium</th>\n",
       "      <th>Harvest_Bin_Long</th>\n",
       "      <th>Harvest_Bin_Very Long</th>\n",
       "    </tr>\n",
       "  </thead>\n",
       "  <tbody>\n",
       "    <tr>\n",
       "      <th>0</th>\n",
       "      <td>False</td>\n",
       "      <td>True</td>\n",
       "      <td>6.555816</td>\n",
       "      <td>False</td>\n",
       "      <td>False</td>\n",
       "      <td>False</td>\n",
       "      <td>True</td>\n",
       "      <td>False</td>\n",
       "      <td>False</td>\n",
       "      <td>False</td>\n",
       "      <td>...</td>\n",
       "      <td>True</td>\n",
       "      <td>False</td>\n",
       "      <td>False</td>\n",
       "      <td>False</td>\n",
       "      <td>True</td>\n",
       "      <td>False</td>\n",
       "      <td>False</td>\n",
       "      <td>False</td>\n",
       "      <td>True</td>\n",
       "      <td>False</td>\n",
       "    </tr>\n",
       "    <tr>\n",
       "      <th>1</th>\n",
       "      <td>True</td>\n",
       "      <td>True</td>\n",
       "      <td>8.527341</td>\n",
       "      <td>False</td>\n",
       "      <td>False</td>\n",
       "      <td>True</td>\n",
       "      <td>False</td>\n",
       "      <td>False</td>\n",
       "      <td>True</td>\n",
       "      <td>False</td>\n",
       "      <td>...</td>\n",
       "      <td>False</td>\n",
       "      <td>True</td>\n",
       "      <td>False</td>\n",
       "      <td>True</td>\n",
       "      <td>False</td>\n",
       "      <td>False</td>\n",
       "      <td>False</td>\n",
       "      <td>False</td>\n",
       "      <td>True</td>\n",
       "      <td>False</td>\n",
       "    </tr>\n",
       "    <tr>\n",
       "      <th>2</th>\n",
       "      <td>False</td>\n",
       "      <td>False</td>\n",
       "      <td>1.127443</td>\n",
       "      <td>False</td>\n",
       "      <td>True</td>\n",
       "      <td>False</td>\n",
       "      <td>False</td>\n",
       "      <td>False</td>\n",
       "      <td>False</td>\n",
       "      <td>True</td>\n",
       "      <td>...</td>\n",
       "      <td>False</td>\n",
       "      <td>False</td>\n",
       "      <td>False</td>\n",
       "      <td>False</td>\n",
       "      <td>True</td>\n",
       "      <td>False</td>\n",
       "      <td>False</td>\n",
       "      <td>True</td>\n",
       "      <td>False</td>\n",
       "      <td>False</td>\n",
       "    </tr>\n",
       "    <tr>\n",
       "      <th>3</th>\n",
       "      <td>False</td>\n",
       "      <td>True</td>\n",
       "      <td>6.517573</td>\n",
       "      <td>False</td>\n",
       "      <td>True</td>\n",
       "      <td>False</td>\n",
       "      <td>False</td>\n",
       "      <td>False</td>\n",
       "      <td>False</td>\n",
       "      <td>False</td>\n",
       "      <td>...</td>\n",
       "      <td>False</td>\n",
       "      <td>True</td>\n",
       "      <td>False</td>\n",
       "      <td>True</td>\n",
       "      <td>False</td>\n",
       "      <td>False</td>\n",
       "      <td>False</td>\n",
       "      <td>False</td>\n",
       "      <td>True</td>\n",
       "      <td>False</td>\n",
       "    </tr>\n",
       "    <tr>\n",
       "      <th>4</th>\n",
       "      <td>True</td>\n",
       "      <td>True</td>\n",
       "      <td>7.248251</td>\n",
       "      <td>False</td>\n",
       "      <td>False</td>\n",
       "      <td>True</td>\n",
       "      <td>False</td>\n",
       "      <td>False</td>\n",
       "      <td>False</td>\n",
       "      <td>False</td>\n",
       "      <td>...</td>\n",
       "      <td>True</td>\n",
       "      <td>False</td>\n",
       "      <td>False</td>\n",
       "      <td>False</td>\n",
       "      <td>True</td>\n",
       "      <td>False</td>\n",
       "      <td>False</td>\n",
       "      <td>True</td>\n",
       "      <td>False</td>\n",
       "      <td>False</td>\n",
       "    </tr>\n",
       "  </tbody>\n",
       "</table>\n",
       "<p>5 rows × 34 columns</p>\n",
       "</div>"
      ],
      "text/plain": [
       "   Fertilizer_Used Irrigation_Used  Yield_tons_per_hectare  Region_East  \\\n",
       "0            False            True                6.555816        False   \n",
       "1             True            True                8.527341        False   \n",
       "2            False           False                1.127443        False   \n",
       "3            False            True                6.517573        False   \n",
       "4             True            True                7.248251        False   \n",
       "\n",
       "   Region_North  Region_South  Region_West  Soil_Type_Chalky  Soil_Type_Clay  \\\n",
       "0         False         False         True             False           False   \n",
       "1         False          True        False             False            True   \n",
       "2          True         False        False             False           False   \n",
       "3          True         False        False             False           False   \n",
       "4         False          True        False             False           False   \n",
       "\n",
       "   Soil_Type_Loam  ...  Rainfall_Bin_High  Rainfall_Bin_Very High  \\\n",
       "0           False  ...               True                   False   \n",
       "1           False  ...              False                    True   \n",
       "2            True  ...              False                   False   \n",
       "3           False  ...              False                    True   \n",
       "4           False  ...               True                   False   \n",
       "\n",
       "   Temp_Bin_Cold  Temp_Bin_Mild  Temp_Bin_Warm  Temp_Bin_Hot  \\\n",
       "0          False          False           True         False   \n",
       "1          False           True          False         False   \n",
       "2          False          False           True         False   \n",
       "3          False           True          False         False   \n",
       "4          False          False           True         False   \n",
       "\n",
       "   Harvest_Bin_Short  Harvest_Bin_Medium  Harvest_Bin_Long  \\\n",
       "0              False               False              True   \n",
       "1              False               False              True   \n",
       "2              False                True             False   \n",
       "3              False               False              True   \n",
       "4              False                True             False   \n",
       "\n",
       "   Harvest_Bin_Very Long  \n",
       "0                  False  \n",
       "1                  False  \n",
       "2                  False  \n",
       "3                  False  \n",
       "4                  False  \n",
       "\n",
       "[5 rows x 34 columns]"
      ]
     },
     "execution_count": 36,
     "metadata": {},
     "output_type": "execute_result"
    }
   ],
   "source": [
    "df4.head()"
   ]
  },
  {
   "cell_type": "code",
   "execution_count": 37,
   "id": "6263a351-f2a8-41b1-9e70-406e6eb50865",
   "metadata": {},
   "outputs": [
    {
     "data": {
      "text/html": [
       "<div>\n",
       "<style scoped>\n",
       "    .dataframe tbody tr th:only-of-type {\n",
       "        vertical-align: middle;\n",
       "    }\n",
       "\n",
       "    .dataframe tbody tr th {\n",
       "        vertical-align: top;\n",
       "    }\n",
       "\n",
       "    .dataframe thead th {\n",
       "        text-align: right;\n",
       "    }\n",
       "</style>\n",
       "<table border=\"1\" class=\"dataframe\">\n",
       "  <thead>\n",
       "    <tr style=\"text-align: right;\">\n",
       "      <th></th>\n",
       "      <th>Fertilizer_Used</th>\n",
       "      <th>Irrigation_Used</th>\n",
       "      <th>Region_East</th>\n",
       "      <th>Region_North</th>\n",
       "      <th>Region_South</th>\n",
       "      <th>Region_West</th>\n",
       "      <th>Soil_Type_Chalky</th>\n",
       "      <th>Soil_Type_Clay</th>\n",
       "      <th>Soil_Type_Loam</th>\n",
       "      <th>Soil_Type_Peaty</th>\n",
       "      <th>...</th>\n",
       "      <th>Rainfall_Bin_High</th>\n",
       "      <th>Rainfall_Bin_Very High</th>\n",
       "      <th>Temp_Bin_Cold</th>\n",
       "      <th>Temp_Bin_Mild</th>\n",
       "      <th>Temp_Bin_Warm</th>\n",
       "      <th>Temp_Bin_Hot</th>\n",
       "      <th>Harvest_Bin_Short</th>\n",
       "      <th>Harvest_Bin_Medium</th>\n",
       "      <th>Harvest_Bin_Long</th>\n",
       "      <th>Harvest_Bin_Very Long</th>\n",
       "    </tr>\n",
       "  </thead>\n",
       "  <tbody>\n",
       "    <tr>\n",
       "      <th>0</th>\n",
       "      <td>False</td>\n",
       "      <td>True</td>\n",
       "      <td>False</td>\n",
       "      <td>False</td>\n",
       "      <td>False</td>\n",
       "      <td>True</td>\n",
       "      <td>False</td>\n",
       "      <td>False</td>\n",
       "      <td>False</td>\n",
       "      <td>False</td>\n",
       "      <td>...</td>\n",
       "      <td>True</td>\n",
       "      <td>False</td>\n",
       "      <td>False</td>\n",
       "      <td>False</td>\n",
       "      <td>True</td>\n",
       "      <td>False</td>\n",
       "      <td>False</td>\n",
       "      <td>False</td>\n",
       "      <td>True</td>\n",
       "      <td>False</td>\n",
       "    </tr>\n",
       "    <tr>\n",
       "      <th>1</th>\n",
       "      <td>True</td>\n",
       "      <td>True</td>\n",
       "      <td>False</td>\n",
       "      <td>False</td>\n",
       "      <td>True</td>\n",
       "      <td>False</td>\n",
       "      <td>False</td>\n",
       "      <td>True</td>\n",
       "      <td>False</td>\n",
       "      <td>False</td>\n",
       "      <td>...</td>\n",
       "      <td>False</td>\n",
       "      <td>True</td>\n",
       "      <td>False</td>\n",
       "      <td>True</td>\n",
       "      <td>False</td>\n",
       "      <td>False</td>\n",
       "      <td>False</td>\n",
       "      <td>False</td>\n",
       "      <td>True</td>\n",
       "      <td>False</td>\n",
       "    </tr>\n",
       "    <tr>\n",
       "      <th>2</th>\n",
       "      <td>False</td>\n",
       "      <td>False</td>\n",
       "      <td>False</td>\n",
       "      <td>True</td>\n",
       "      <td>False</td>\n",
       "      <td>False</td>\n",
       "      <td>False</td>\n",
       "      <td>False</td>\n",
       "      <td>True</td>\n",
       "      <td>False</td>\n",
       "      <td>...</td>\n",
       "      <td>False</td>\n",
       "      <td>False</td>\n",
       "      <td>False</td>\n",
       "      <td>False</td>\n",
       "      <td>True</td>\n",
       "      <td>False</td>\n",
       "      <td>False</td>\n",
       "      <td>True</td>\n",
       "      <td>False</td>\n",
       "      <td>False</td>\n",
       "    </tr>\n",
       "  </tbody>\n",
       "</table>\n",
       "<p>3 rows × 33 columns</p>\n",
       "</div>"
      ],
      "text/plain": [
       "   Fertilizer_Used Irrigation_Used  Region_East  Region_North  Region_South  \\\n",
       "0            False            True        False         False         False   \n",
       "1             True            True        False         False          True   \n",
       "2            False           False        False          True         False   \n",
       "\n",
       "   Region_West  Soil_Type_Chalky  Soil_Type_Clay  Soil_Type_Loam  \\\n",
       "0         True             False           False           False   \n",
       "1        False             False            True           False   \n",
       "2        False             False           False            True   \n",
       "\n",
       "   Soil_Type_Peaty  ...  Rainfall_Bin_High  Rainfall_Bin_Very High  \\\n",
       "0            False  ...               True                   False   \n",
       "1            False  ...              False                    True   \n",
       "2            False  ...              False                   False   \n",
       "\n",
       "   Temp_Bin_Cold  Temp_Bin_Mild  Temp_Bin_Warm  Temp_Bin_Hot  \\\n",
       "0          False          False           True         False   \n",
       "1          False           True          False         False   \n",
       "2          False          False           True         False   \n",
       "\n",
       "   Harvest_Bin_Short  Harvest_Bin_Medium  Harvest_Bin_Long  \\\n",
       "0              False               False              True   \n",
       "1              False               False              True   \n",
       "2              False                True             False   \n",
       "\n",
       "   Harvest_Bin_Very Long  \n",
       "0                  False  \n",
       "1                  False  \n",
       "2                  False  \n",
       "\n",
       "[3 rows x 33 columns]"
      ]
     },
     "execution_count": 37,
     "metadata": {},
     "output_type": "execute_result"
    }
   ],
   "source": [
    "X = df4.drop(['Yield_tons_per_hectare'],axis='columns')\n",
    "X.head(3)"
   ]
  },
  {
   "cell_type": "code",
   "execution_count": 38,
   "id": "e5afb7e8-9af3-4175-a760-7ae8aa508737",
   "metadata": {},
   "outputs": [
    {
     "data": {
      "text/plain": [
       "0    6.555816\n",
       "1    8.527341\n",
       "2    1.127443\n",
       "Name: Yield_tons_per_hectare, dtype: float64"
      ]
     },
     "execution_count": 38,
     "metadata": {},
     "output_type": "execute_result"
    }
   ],
   "source": [
    "y=df4['Yield_tons_per_hectare']\n",
    "y.head(3)"
   ]
  },
  {
   "cell_type": "code",
   "execution_count": 39,
   "id": "9c8d3645-7e99-40cb-919a-a97969f47cff",
   "metadata": {},
   "outputs": [
    {
     "data": {
      "text/plain": [
       "999989"
      ]
     },
     "execution_count": 39,
     "metadata": {},
     "output_type": "execute_result"
    }
   ],
   "source": [
    "len(X)"
   ]
  },
  {
   "cell_type": "code",
   "execution_count": 40,
   "id": "74a4ed3a-0bbc-4309-b2c7-0fd5e5fbc015",
   "metadata": {},
   "outputs": [
    {
     "data": {
      "text/plain": [
       "999989"
      ]
     },
     "execution_count": 40,
     "metadata": {},
     "output_type": "execute_result"
    }
   ],
   "source": [
    "len(y)"
   ]
  },
  {
   "cell_type": "code",
   "execution_count": 41,
   "id": "370c3c4b-a354-41a0-80d3-bb46e0e6556c",
   "metadata": {},
   "outputs": [],
   "source": [
    "from sklearn.model_selection import train_test_split\n",
    "X_train, X_test, y_train, y_test = train_test_split(X,y,test_size=0.2,random_state=10)"
   ]
  },
  {
   "cell_type": "code",
   "execution_count": 42,
   "id": "80c96f8c-4199-4ffc-bae4-fa1fea160c0b",
   "metadata": {},
   "outputs": [
    {
     "data": {
      "text/plain": [
       "0.8622802227068438"
      ]
     },
     "execution_count": 42,
     "metadata": {},
     "output_type": "execute_result"
    }
   ],
   "source": [
    "from sklearn.linear_model import LinearRegression\n",
    "lr_clf = LinearRegression()\n",
    "lr_clf.fit(X_train,y_train)\n",
    "lr_clf.score(X_test,y_test)"
   ]
  },
  {
   "cell_type": "code",
   "execution_count": 43,
   "id": "2196a056-8566-4a4c-91e0-8f7866e507d6",
   "metadata": {},
   "outputs": [
    {
     "data": {
      "text/plain": [
       "array([0.86102743, 0.86240714, 0.86130095, 0.86211119, 0.86146062])"
      ]
     },
     "execution_count": 43,
     "metadata": {},
     "output_type": "execute_result"
    }
   ],
   "source": [
    "from sklearn.model_selection import ShuffleSplit\n",
    "from sklearn.model_selection import cross_val_score\n",
    "\n",
    "cv = ShuffleSplit(n_splits=5, test_size=0.2, random_state=0)\n",
    "\n",
    "cross_val_score(LinearRegression(), X, y, cv=cv)"
   ]
  },
  {
   "cell_type": "code",
   "execution_count": 44,
   "id": "9d561900-d3cb-4822-b419-40bffd1aa6df",
   "metadata": {},
   "outputs": [
    {
     "name": "stderr",
     "output_type": "stream",
     "text": [
      "C:\\Users\\WWAsanka\\AppData\\Local\\Programs\\Python\\Python311\\Lib\\site-packages\\sklearn\\model_selection\\_validation.py:516: FitFailedWarning: \n",
      "10 fits failed out of a total of 20.\n",
      "The score on these train-test partitions for these parameters will be set to nan.\n",
      "If these failures are not expected, you can try to debug them by setting error_score='raise'.\n",
      "\n",
      "Below are more details about the failures:\n",
      "--------------------------------------------------------------------------------\n",
      "10 fits failed with the following error:\n",
      "Traceback (most recent call last):\n",
      "  File \"C:\\Users\\WWAsanka\\AppData\\Local\\Programs\\Python\\Python311\\Lib\\site-packages\\sklearn\\model_selection\\_validation.py\", line 859, in _fit_and_score\n",
      "    estimator.fit(X_train, y_train, **fit_params)\n",
      "  File \"C:\\Users\\WWAsanka\\AppData\\Local\\Programs\\Python\\Python311\\Lib\\site-packages\\sklearn\\base.py\", line 1358, in wrapper\n",
      "    estimator._validate_params()\n",
      "  File \"C:\\Users\\WWAsanka\\AppData\\Local\\Programs\\Python\\Python311\\Lib\\site-packages\\sklearn\\base.py\", line 471, in _validate_params\n",
      "    validate_parameter_constraints(\n",
      "  File \"C:\\Users\\WWAsanka\\AppData\\Local\\Programs\\Python\\Python311\\Lib\\site-packages\\sklearn\\utils\\_param_validation.py\", line 98, in validate_parameter_constraints\n",
      "    raise InvalidParameterError(\n",
      "sklearn.utils._param_validation.InvalidParameterError: The 'criterion' parameter of DecisionTreeRegressor must be a str among {'squared_error', 'absolute_error', 'poisson', 'friedman_mse'}. Got 'mse' instead.\n",
      "\n",
      "  warnings.warn(some_fits_failed_message, FitFailedWarning)\n",
      "C:\\Users\\WWAsanka\\AppData\\Local\\Programs\\Python\\Python311\\Lib\\site-packages\\sklearn\\model_selection\\_search.py:1135: UserWarning: One or more of the test scores are non-finite: [       nan        nan 0.85047502 0.85047937]\n",
      "  warnings.warn(\n"
     ]
    },
    {
     "data": {
      "text/html": [
       "<div>\n",
       "<style scoped>\n",
       "    .dataframe tbody tr th:only-of-type {\n",
       "        vertical-align: middle;\n",
       "    }\n",
       "\n",
       "    .dataframe tbody tr th {\n",
       "        vertical-align: top;\n",
       "    }\n",
       "\n",
       "    .dataframe thead th {\n",
       "        text-align: right;\n",
       "    }\n",
       "</style>\n",
       "<table border=\"1\" class=\"dataframe\">\n",
       "  <thead>\n",
       "    <tr style=\"text-align: right;\">\n",
       "      <th></th>\n",
       "      <th>model</th>\n",
       "      <th>best_score</th>\n",
       "      <th>best_params</th>\n",
       "    </tr>\n",
       "  </thead>\n",
       "  <tbody>\n",
       "    <tr>\n",
       "      <th>0</th>\n",
       "      <td>linear_regression</td>\n",
       "      <td>0.861661</td>\n",
       "      <td>{}</td>\n",
       "    </tr>\n",
       "    <tr>\n",
       "      <th>1</th>\n",
       "      <td>lasso</td>\n",
       "      <td>-0.000004</td>\n",
       "      <td>{'alpha': 1, 'selection': 'random'}</td>\n",
       "    </tr>\n",
       "    <tr>\n",
       "      <th>2</th>\n",
       "      <td>decision_tree</td>\n",
       "      <td>0.850479</td>\n",
       "      <td>{'criterion': 'friedman_mse', 'splitter': 'ran...</td>\n",
       "    </tr>\n",
       "  </tbody>\n",
       "</table>\n",
       "</div>"
      ],
      "text/plain": [
       "               model  best_score  \\\n",
       "0  linear_regression    0.861661   \n",
       "1              lasso   -0.000004   \n",
       "2      decision_tree    0.850479   \n",
       "\n",
       "                                         best_params  \n",
       "0                                                 {}  \n",
       "1                {'alpha': 1, 'selection': 'random'}  \n",
       "2  {'criterion': 'friedman_mse', 'splitter': 'ran...  "
      ]
     },
     "execution_count": 44,
     "metadata": {},
     "output_type": "execute_result"
    }
   ],
   "source": [
    "from sklearn.model_selection import GridSearchCV\n",
    "\n",
    "from sklearn.linear_model import Lasso\n",
    "from sklearn.tree import DecisionTreeRegressor\n",
    "\n",
    "def find_best_model_using_gridsearchcv(X,y):\n",
    "    algos = {\n",
    "        'linear_regression' : {\n",
    "            'model': LinearRegression(),\n",
    "            'params': {\n",
    "                #'normalize': [True, False]\n",
    "            }\n",
    "        },\n",
    "        'lasso': {\n",
    "            'model': Lasso(),\n",
    "            'params': {\n",
    "                'alpha': [1,2],\n",
    "                'selection': ['random', 'cyclic']\n",
    "            }\n",
    "        },\n",
    "        'decision_tree': {\n",
    "            'model': DecisionTreeRegressor(),\n",
    "            'params': {\n",
    "                'criterion' : ['mse','friedman_mse'],\n",
    "                'splitter': ['best','random']\n",
    "            }\n",
    "        }\n",
    "    }\n",
    "    scores = []\n",
    "    cv = ShuffleSplit(n_splits=5, test_size=0.2, random_state=0)\n",
    "    for algo_name, config in algos.items():\n",
    "        gs =  GridSearchCV(config['model'], config['params'], cv=cv, return_train_score=False)\n",
    "        gs.fit(X,y)\n",
    "        scores.append({\n",
    "            'model': algo_name,\n",
    "            'best_score': gs.best_score_,\n",
    "            'best_params': gs.best_params_\n",
    "        })\n",
    "\n",
    "    return pd.DataFrame(scores,columns=['model','best_score','best_params'])\n",
    "\n",
    "find_best_model_using_gridsearchcv(X,y)"
   ]
  },
  {
   "cell_type": "code",
   "execution_count": 45,
   "id": "21a8fdef-cfa2-4f78-b74a-56c40ff09eba",
   "metadata": {},
   "outputs": [],
   "source": [
    "def get_rainfall_bin(rainfall):\n",
    "    if rainfall <= 300:\n",
    "        return \"Rainfall_Bin_Low\"\n",
    "    elif rainfall <= 600:\n",
    "        return \"Rainfall_Bin_Medium\"\n",
    "    elif rainfall <= 900:\n",
    "        return \"Rainfall_Bin_High\"\n",
    "    else:\n",
    "        return \"Rainfall_Bin_Very High\"\n",
    "\n",
    "def get_temp_bin(temp):\n",
    "    if temp <= 15:\n",
    "        return \"Temp_Bin_Cold\"\n",
    "    elif temp <= 25:\n",
    "        return \"Temp_Bin_Mild\"\n",
    "    elif temp <= 35:\n",
    "        return \"Temp_Bin_Warm\"\n",
    "    else:\n",
    "        return \"Temp_Bin_Hot\"\n",
    "\n",
    "def get_harvest_bin(days):\n",
    "    if days <= 90:\n",
    "        return \"Harvest_Bin_Short\"\n",
    "    elif days <= 120:\n",
    "        return \"Harvest_Bin_Medium\"\n",
    "    elif days <= 150:\n",
    "        return \"Harvest_Bin_Long\"\n",
    "    else:\n",
    "        return \"Harvest_Bin_Very Long\"\n"
   ]
  },
  {
   "cell_type": "code",
   "execution_count": 46,
   "id": "a5b8de6c-212b-4d63-91da-48298e0f78a7",
   "metadata": {},
   "outputs": [],
   "source": [
    "def predict_yield(fertilizer, irrigation,\n",
    "                  region, soil, crop, weather,\n",
    "                  rainfall, temperature, harvest_days):\n",
    "    x = np.zeros(len(X.columns))\n",
    "\n",
    "    # Boolean features\n",
    "    x[X.columns.get_loc('Fertilizer_Used')] = int(fertilizer)\n",
    "    x[X.columns.get_loc('Irrigation_Used')] = int(irrigation)\n",
    "\n",
    "    # Categorical features + binned numeric features\n",
    "    for feature in [region, soil, crop, weather,\n",
    "                    get_rainfall_bin(rainfall),\n",
    "                    get_temp_bin(temperature),\n",
    "                    get_harvest_bin(harvest_days)]:\n",
    "        if feature in X.columns:\n",
    "            x[X.columns.get_loc(feature)] = 1\n",
    "        else:\n",
    "            print(f\"Warning: {feature} not found in columns.\")\n",
    "\n",
    "    return lr_clf.predict([x])[0]\n"
   ]
  },
  {
   "cell_type": "code",
   "execution_count": 47,
   "id": "e373bef0-5cb4-4b2d-a21b-346ddcd63933",
   "metadata": {},
   "outputs": [
    {
     "name": "stdout",
     "output_type": "stream",
     "text": [
      "Predicted Yield: 5.546626230658935 tons/hectare\n"
     ]
    },
    {
     "name": "stderr",
     "output_type": "stream",
     "text": [
      "C:\\Users\\WWAsanka\\AppData\\Local\\Programs\\Python\\Python311\\Lib\\site-packages\\sklearn\\utils\\validation.py:2749: UserWarning: X does not have valid feature names, but LinearRegression was fitted with feature names\n",
      "  warnings.warn(\n"
     ]
    }
   ],
   "source": [
    "yield_pred = predict_yield(\n",
    "    fertilizer=0,\n",
    "    irrigation=1,\n",
    "    region=\"Region_West\",\n",
    "    soil=\"Soil_Type_Sandy\",\n",
    "    crop=\"Crop_Cotton\",\n",
    "    weather=\"Weather_Condition_Cloudy\",\n",
    "    rainfall=900,\n",
    "    temperature=28,\n",
    "    harvest_days=122\n",
    ")\n",
    "\n",
    "print(\"Predicted Yield:\", yield_pred, \"tons/hectare\")\n"
   ]
  },
  {
   "cell_type": "code",
   "execution_count": 51,
   "id": "a261713c-2e9c-479a-bd5e-e5b2f7753338",
   "metadata": {},
   "outputs": [
    {
     "name": "stdout",
     "output_type": "stream",
     "text": [
      "Predicted Yield: 5.546626230658935 tons/hectare\n"
     ]
    },
    {
     "name": "stderr",
     "output_type": "stream",
     "text": [
      "C:\\Users\\WWAsanka\\AppData\\Local\\Programs\\Python\\Python311\\Lib\\site-packages\\sklearn\\utils\\validation.py:2749: UserWarning: X does not have valid feature names, but LinearRegression was fitted with feature names\n",
      "  warnings.warn(\n"
     ]
    }
   ],
   "source": [
    "yield_pred = predict_yield(\n",
    "    fertilizer=0,\n",
    "    irrigation=1,\n",
    "    region=\"Region_West\",\n",
    "    soil=\"Soil_Type_Sandy\",\n",
    "    crop=\"Crop_Cotton\",\n",
    "    weather=\"Weather_Condition_Cloudy\",\n",
    "    rainfall=897,\n",
    "    temperature=27,\n",
    "    harvest_days=122\n",
    ")\n",
    "\n",
    "print(\"Predicted Yield:\", yield_pred, \"tons/hectare\")\n"
   ]
  },
  {
   "cell_type": "code",
   "execution_count": 49,
   "id": "c049eaff-4b52-4895-a6d6-8b0332690688",
   "metadata": {},
   "outputs": [],
   "source": [
    "import pickle\n",
    "with open('yield_prediction_model.pickle','wb') as f:\n",
    "    pickle.dump(lr_clf,f)"
   ]
  },
  {
   "cell_type": "code",
   "execution_count": 50,
   "id": "beeab19f-bf9c-4302-b21a-0b714c623a33",
   "metadata": {},
   "outputs": [],
   "source": [
    "import json\n",
    "columns = {\n",
    "    'data_columns' : [col.lower() for col in X.columns]\n",
    "}\n",
    "with open(\"columns.json\",\"w\") as f:\n",
    "    f.write(json.dumps(columns))"
   ]
  }
 ],
 "metadata": {
  "kernelspec": {
   "display_name": "Python 3 (ipykernel)",
   "language": "python",
   "name": "python3"
  },
  "language_info": {
   "codemirror_mode": {
    "name": "ipython",
    "version": 3
   },
   "file_extension": ".py",
   "mimetype": "text/x-python",
   "name": "python",
   "nbconvert_exporter": "python",
   "pygments_lexer": "ipython3",
   "version": "3.11.9"
  }
 },
 "nbformat": 4,
 "nbformat_minor": 5
}
